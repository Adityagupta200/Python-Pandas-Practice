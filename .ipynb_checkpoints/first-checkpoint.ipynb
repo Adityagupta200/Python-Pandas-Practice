{
 "cells": [
  {
   "cell_type": "code",
   "id": "initial_id",
   "metadata": {
    "collapsed": true,
    "ExecuteTime": {
     "end_time": "2025-08-31T09:01:56.448968Z",
     "start_time": "2025-08-31T09:01:50.541504Z"
    }
   },
   "source": "!conda --help",
   "outputs": [
    {
     "name": "stdout",
     "output_type": "stream",
     "text": [
      "usage: conda-script.py [-h] [-v] [--no-plugins] [-V] COMMAND ...\n",
      "\n",
      "conda is a tool for managing and deploying applications, environments and packages.\n",
      "\n",
      "options:\n",
      "  -h, --help          Show this help message and exit.\n",
      "  -v, --verbose       Can be used multiple times. Once for detailed output,\n",
      "                      twice for INFO logging, thrice for DEBUG logging, four\n",
      "                      times for TRACE logging.\n",
      "  --no-plugins        Disable all plugins that are not built into conda.\n",
      "  -V, --version       Show the conda version number and exit.\n",
      "\n",
      "commands:\n",
      "  The following built-in and plugins subcommands are available.\n",
      "\n",
      "  COMMAND\n",
      "    activate          Activate a conda environment.\n",
      "    clean             Remove unused packages and caches.\n",
      "    commands          List all available conda subcommands (including those\n",
      "                      from plugins). Generally only used by tab-completion.\n",
      "    compare           Compare packages between conda environments.\n",
      "    config            Modify configuration values in .condarc.\n",
      "    content-trust     Signing and verification tools for Conda\n",
      "    create            Create a new conda environment from a list of specified\n",
      "                      packages.\n",
      "    deactivate        Deactivate the current active conda environment.\n",
      "    doctor            Display a health report for your environment.\n",
      "    export            Export a given environment\n",
      "    info              Display information about current conda install.\n",
      "    init              Initialize conda for shell interaction.\n",
      "    install           Install a list of packages into a specified conda\n",
      "                      environment.\n",
      "    list              List installed packages in a conda environment.\n",
      "    notices           Retrieve latest channel notifications.\n",
      "    package           Create low-level conda packages. (EXPERIMENTAL)\n",
      "    remove (uninstall)\n",
      "                      Remove a list of packages from a specified conda\n",
      "                      environment.\n",
      "    rename            Rename an existing environment.\n",
      "    repoquery         Advanced search for repodata.\n",
      "    run               Run an executable in a conda environment.\n",
      "    search            Search for packages and display associated information\n",
      "                      using the MatchSpec format.\n",
      "    update (upgrade)  Update conda packages to the latest compatible version.\n"
     ]
    }
   ],
   "execution_count": 1
  },
  {
   "metadata": {},
   "cell_type": "code",
   "outputs": [],
   "execution_count": null,
   "source": "",
   "id": "96147b5abc4ce2f9"
  }
 ],
 "metadata": {
  "kernelspec": {
   "display_name": "Python 3",
   "language": "python",
   "name": "python3"
  },
  "language_info": {
   "codemirror_mode": {
    "name": "ipython",
    "version": 2
   },
   "file_extension": ".py",
   "mimetype": "text/x-python",
   "name": "python",
   "nbconvert_exporter": "python",
   "pygments_lexer": "ipython2",
   "version": "2.7.6"
  }
 },
 "nbformat": 4,
 "nbformat_minor": 5
}
