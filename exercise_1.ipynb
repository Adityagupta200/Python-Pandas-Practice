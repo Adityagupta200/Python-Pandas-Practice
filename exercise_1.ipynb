{
 "cells": [
  {
   "metadata": {},
   "cell_type": "markdown",
   "source": [
    "# Exercise: Outlier removal using standard deviation and z score\n",
    "You are given bhp.csv which contains property prices in the city of banglore, India. You need to examine price_per_sqft column and do following,\n",
    "\n",
    "(1) Remove outliers using percentile technique first. Use [0.001, 0.999] for lower and upper bound percentiles\n",
    "\n",
    "(2) After removing outliers in step 1, you get a new dataframe.\n",
    "\n",
    "(3) On step(2) dataframe, use 4 standard deviation to remove outliers\n",
    "\n",
    "(4) Plot histogram for new dataframe that is generated after step (3). Also plot bell curve on same histogram\n",
    "\n",
    "(5) On step(2) dataframe, use zscore of 4 to remove outliers. This is quite similar to step (3) and you will get exact same result\n"
   ],
   "id": "80e3662825ee156f"
  },
  {
   "cell_type": "code",
   "id": "initial_id",
   "metadata": {
    "collapsed": true,
    "ExecuteTime": {
     "end_time": "2025-09-03T14:11:14.866790Z",
     "start_time": "2025-09-03T14:11:13.270340Z"
    }
   },
   "source": [
    "import pandas as pd\n",
    "\n",
    "df = pd.read_csv(\"data/bhp.csv\")\n",
    "upper_limit = 0.999\n",
    "lower_limit = 0.001\n",
    "price_per_sqft = df[\"price_per_sqft\"]\n",
    "\n",
    "outlier_removed_df_using_percentiles = df[(price_per_sqft > price_per_sqft.quantile(lower_limit)) & (price_per_sqft < price_per_sqft.quantile(upper_limit))]\n",
    "\n",
    "number_of_outliers_removed = df.shape[0] - outlier_removed_df_using_percentiles.shape[0]\n",
    "print(f\"Number of outliers removed: {number_of_outliers_removed}\")"
   ],
   "outputs": [
    {
     "name": "stdout",
     "output_type": "stream",
     "text": [
      "Number of outliers removed: 28\n"
     ]
    }
   ],
   "execution_count": 4
  },
  {
   "metadata": {
    "ExecuteTime": {
     "end_time": "2025-09-03T14:11:14.910649Z",
     "start_time": "2025-09-03T14:11:14.886779Z"
    }
   },
   "cell_type": "code",
   "source": [
    "mean = outlier_removed_df_using_percentiles[\"price_per_sqft\"].mean()\n",
    "std = outlier_removed_df_using_percentiles[\"price_per_sqft\"].std()\n",
    "upper_limit_using_four_std = mean + 4 * std\n",
    "lower_limit_using_four_std = mean - 4 * std\n",
    "\n",
    "outlier_removed_df_using_four_std = outlier_removed_df_using_percentiles[(outlier_removed_df_using_percentiles[\"price_per_sqft\"] < upper_limit_using_four_std) & (outlier_removed_df_using_percentiles[\"price_per_sqft\"] > lower_limit_using_four_std)]\n",
    "outlier_df = outlier_removed_df_using_percentiles[(outlier_removed_df_using_percentiles[\"price_per_sqft\"] > upper_limit_using_four_std) | (outlier_removed_df_using_percentiles[\"price_per_sqft\"] < lower_limit_using_four_std)]\n",
    "print(f\"Number of outliers removed: {outlier_removed_df_using_percentiles.shape[0] - outlier_removed_df_using_four_std.shape[0]}\")"
   ],
   "id": "1082f84914e7b964",
   "outputs": [
    {
     "name": "stdout",
     "output_type": "stream",
     "text": [
      "Number of outliers removed: 125\n"
     ]
    }
   ],
   "execution_count": 5
  },
  {
   "metadata": {
    "ExecuteTime": {
     "end_time": "2025-09-03T14:11:15.001191Z",
     "start_time": "2025-09-03T14:11:14.942226Z"
    }
   },
   "cell_type": "code",
   "source": "outlier_df",
   "id": "1c0e08dd359ae70c",
   "outputs": [
    {
     "data": {
      "text/plain": [
       "              location       size  total_sqft  bath   price  bhk  \\\n",
       "9                other  6 Bedroom      1020.0   6.0   370.0    6   \n",
       "45          HSR Layout  8 Bedroom       600.0   9.0   200.0    8   \n",
       "190          Bellandur  4 Bedroom      1200.0   5.0   325.0    4   \n",
       "733    Cunningham Road      4 BHK      5270.0   4.0  1250.0    4   \n",
       "760              other  9 Bedroom       600.0   9.0   190.0    9   \n",
       "...                ...        ...         ...   ...     ...  ...   \n",
       "13081            other  6 Bedroom      8000.0   6.0  2800.0    6   \n",
       "13094            other  4 Bedroom      1200.0   5.0   325.0    4   \n",
       "13127            other  4 Bedroom      1200.0   5.0   325.0    4   \n",
       "13185         Hulimavu      1 BHK       500.0   1.0   220.0    1   \n",
       "13186            other  4 Bedroom      1200.0   5.0   325.0    4   \n",
       "\n",
       "       price_per_sqft  \n",
       "9               36274  \n",
       "45              33333  \n",
       "190             27083  \n",
       "733             23719  \n",
       "760             31666  \n",
       "...               ...  \n",
       "13081           35000  \n",
       "13094           27083  \n",
       "13127           27083  \n",
       "13185           44000  \n",
       "13186           27083  \n",
       "\n",
       "[125 rows x 7 columns]"
      ],
      "text/html": [
       "<div>\n",
       "<style scoped>\n",
       "    .dataframe tbody tr th:only-of-type {\n",
       "        vertical-align: middle;\n",
       "    }\n",
       "\n",
       "    .dataframe tbody tr th {\n",
       "        vertical-align: top;\n",
       "    }\n",
       "\n",
       "    .dataframe thead th {\n",
       "        text-align: right;\n",
       "    }\n",
       "</style>\n",
       "<table border=\"1\" class=\"dataframe\">\n",
       "  <thead>\n",
       "    <tr style=\"text-align: right;\">\n",
       "      <th></th>\n",
       "      <th>location</th>\n",
       "      <th>size</th>\n",
       "      <th>total_sqft</th>\n",
       "      <th>bath</th>\n",
       "      <th>price</th>\n",
       "      <th>bhk</th>\n",
       "      <th>price_per_sqft</th>\n",
       "    </tr>\n",
       "  </thead>\n",
       "  <tbody>\n",
       "    <tr>\n",
       "      <th>9</th>\n",
       "      <td>other</td>\n",
       "      <td>6 Bedroom</td>\n",
       "      <td>1020.0</td>\n",
       "      <td>6.0</td>\n",
       "      <td>370.0</td>\n",
       "      <td>6</td>\n",
       "      <td>36274</td>\n",
       "    </tr>\n",
       "    <tr>\n",
       "      <th>45</th>\n",
       "      <td>HSR Layout</td>\n",
       "      <td>8 Bedroom</td>\n",
       "      <td>600.0</td>\n",
       "      <td>9.0</td>\n",
       "      <td>200.0</td>\n",
       "      <td>8</td>\n",
       "      <td>33333</td>\n",
       "    </tr>\n",
       "    <tr>\n",
       "      <th>190</th>\n",
       "      <td>Bellandur</td>\n",
       "      <td>4 Bedroom</td>\n",
       "      <td>1200.0</td>\n",
       "      <td>5.0</td>\n",
       "      <td>325.0</td>\n",
       "      <td>4</td>\n",
       "      <td>27083</td>\n",
       "    </tr>\n",
       "    <tr>\n",
       "      <th>733</th>\n",
       "      <td>Cunningham Road</td>\n",
       "      <td>4 BHK</td>\n",
       "      <td>5270.0</td>\n",
       "      <td>4.0</td>\n",
       "      <td>1250.0</td>\n",
       "      <td>4</td>\n",
       "      <td>23719</td>\n",
       "    </tr>\n",
       "    <tr>\n",
       "      <th>760</th>\n",
       "      <td>other</td>\n",
       "      <td>9 Bedroom</td>\n",
       "      <td>600.0</td>\n",
       "      <td>9.0</td>\n",
       "      <td>190.0</td>\n",
       "      <td>9</td>\n",
       "      <td>31666</td>\n",
       "    </tr>\n",
       "    <tr>\n",
       "      <th>...</th>\n",
       "      <td>...</td>\n",
       "      <td>...</td>\n",
       "      <td>...</td>\n",
       "      <td>...</td>\n",
       "      <td>...</td>\n",
       "      <td>...</td>\n",
       "      <td>...</td>\n",
       "    </tr>\n",
       "    <tr>\n",
       "      <th>13081</th>\n",
       "      <td>other</td>\n",
       "      <td>6 Bedroom</td>\n",
       "      <td>8000.0</td>\n",
       "      <td>6.0</td>\n",
       "      <td>2800.0</td>\n",
       "      <td>6</td>\n",
       "      <td>35000</td>\n",
       "    </tr>\n",
       "    <tr>\n",
       "      <th>13094</th>\n",
       "      <td>other</td>\n",
       "      <td>4 Bedroom</td>\n",
       "      <td>1200.0</td>\n",
       "      <td>5.0</td>\n",
       "      <td>325.0</td>\n",
       "      <td>4</td>\n",
       "      <td>27083</td>\n",
       "    </tr>\n",
       "    <tr>\n",
       "      <th>13127</th>\n",
       "      <td>other</td>\n",
       "      <td>4 Bedroom</td>\n",
       "      <td>1200.0</td>\n",
       "      <td>5.0</td>\n",
       "      <td>325.0</td>\n",
       "      <td>4</td>\n",
       "      <td>27083</td>\n",
       "    </tr>\n",
       "    <tr>\n",
       "      <th>13185</th>\n",
       "      <td>Hulimavu</td>\n",
       "      <td>1 BHK</td>\n",
       "      <td>500.0</td>\n",
       "      <td>1.0</td>\n",
       "      <td>220.0</td>\n",
       "      <td>1</td>\n",
       "      <td>44000</td>\n",
       "    </tr>\n",
       "    <tr>\n",
       "      <th>13186</th>\n",
       "      <td>other</td>\n",
       "      <td>4 Bedroom</td>\n",
       "      <td>1200.0</td>\n",
       "      <td>5.0</td>\n",
       "      <td>325.0</td>\n",
       "      <td>4</td>\n",
       "      <td>27083</td>\n",
       "    </tr>\n",
       "  </tbody>\n",
       "</table>\n",
       "<p>125 rows × 7 columns</p>\n",
       "</div>"
      ]
     },
     "execution_count": 6,
     "metadata": {},
     "output_type": "execute_result"
    }
   ],
   "execution_count": 6
  },
  {
   "metadata": {
    "ExecuteTime": {
     "end_time": "2025-09-03T14:11:21.127561Z",
     "start_time": "2025-09-03T14:11:15.076663Z"
    }
   },
   "cell_type": "code",
   "source": [
    "import matplotlib\n",
    "from matplotlib import pyplot as plt\n",
    "matplotlib.rcParams[\"figure.figsize\"] = (12,8)\n",
    "\n",
    "plt.hist(outlier_removed_df_using_four_std, bins=20, rwidth=0.8)\n",
    "plt.xlabel(\"Price Per Square Ft\")\n",
    "plt.ylabel(\"Count\")\n",
    "plt.show()"
   ],
   "id": "3cebd35efcd1b93f",
   "outputs": [
    {
     "data": {
      "text/plain": [
       "<Figure size 1200x800 with 1 Axes>"
      ],
      "image/png": "[encoded data removed]"
     },
     "metadata": {},
     "output_type": "display_data",
     "jetTransient": {
      "display_id": null
     }
    }
   ],
   "execution_count": 7
  },
  {
   "metadata": {
    "ExecuteTime": {
     "end_time": "2025-09-03T14:11:32.253346Z",
     "start_time": "2025-09-03T14:11:21.732017Z"
    }
   },
   "cell_type": "code",
   "source": "!pip install scipy",
   "id": "60ed47b89c52173",
   "outputs": [
    {
     "name": "stdout",
     "output_type": "stream",
     "text": [
      "Requirement already satisfied: scipy in c:\\users\\abc\\miniconda3\\lib\\site-packages (1.16.1)\n",
      "Requirement already satisfied: numpy<2.6,>=1.25.2 in c:\\users\\abc\\miniconda3\\lib\\site-packages (from scipy) (2.2.5)\n"
     ]
    }
   ],
   "execution_count": 8
  },
  {
   "metadata": {
    "ExecuteTime": {
     "end_time": "2025-09-03T14:11:38.062619Z",
     "start_time": "2025-09-03T14:11:33.073935Z"
    }
   },
   "cell_type": "code",
   "source": [
    "from scipy.stats import norm\n",
    "import numpy as np\n",
    "\n",
    "plt.hist(outlier_removed_df_using_four_std, bins=20, rwidth=0.8, density=True)\n",
    "plt.xlabel('Count')\n",
    "plt.ylabel('Price perSqaure Ft')\n",
    "rng = np.arange(-5000, outlier_removed_df_using_four_std[\"price_per_sqft\"].max(), 100)\n",
    "plt.plot(rng, norm.pdf(rng, outlier_removed_df_using_four_std[\"price_per_sqft\"].mean(), outlier_removed_df_using_four_std[\"price_per_sqft\"].std()))"
   ],
   "id": "9d4117b16bbe8b24",
   "outputs": [
    {
     "data": {
      "text/plain": [
       "[<matplotlib.lines.Line2D at 0x271d4b6c830>]"
      ]
     },
     "execution_count": 9,
     "metadata": {},
     "output_type": "execute_result"
    },
    {
     "data": {
      "text/plain": [
       "<Figure size 1200x800 with 1 Axes>"
      ],
      "image/png": "[encoded data removed]"
     },
     "metadata": {},
     "output_type": "display_data",
     "jetTransient": {
      "display_id": null
     }
    }
   ],
   "execution_count": 9
  },
  {
   "metadata": {
    "ExecuteTime": {
     "end_time": "2025-09-03T14:11:38.723087Z",
     "start_time": "2025-09-03T14:11:38.717159Z"
    }
   },
   "cell_type": "code",
   "source": "",
   "id": "c4b99998eb12a0e3",
   "outputs": [],
   "execution_count": null
  }
 ],
 "metadata": {
  "kernelspec": {
   "display_name": "Python 3",
   "language": "python",
   "name": "python3"
  },
  "language_info": {
   "codemirror_mode": {
    "name": "ipython",
    "version": 2
   },
   "file_extension": ".py",
   "mimetype": "text/x-python",
   "name": "python",
   "nbconvert_exporter": "python",
   "pygments_lexer": "ipython2",
   "version": "2.7.6"
  }
 },
 "nbformat": 4,
 "nbformat_minor": 5
}
